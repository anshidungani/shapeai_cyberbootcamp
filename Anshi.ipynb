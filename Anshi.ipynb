{
  "nbformat": 4,
  "nbformat_minor": 0,
  "metadata": {
    "colab": {
      "name": "Anshi.ipynb",
      "provenance": []
    },
    "kernelspec": {
      "name": "python3",
      "display_name": "Python 3"
    },
    "language_info": {
      "name": "python"
    }
  },
  "cells": [
    {
      "cell_type": "code",
      "metadata": {
        "id": "MFk-kBS1fSzR"
      },
      "source": [
        "import requests"
      ],
      "execution_count": 1,
      "outputs": []
    },
    {
      "cell_type": "code",
      "metadata": {
        "id": "a9xCKTW2iuZP"
      },
      "source": [
        "from datetime import datetime"
      ],
      "execution_count": 2,
      "outputs": []
    },
    {
      "cell_type": "code",
      "metadata": {
        "colab": {
          "base_uri": "https://localhost:8080/"
        },
        "id": "KKBSZXMXi3-m",
        "outputId": "0ac55224-9697-40bd-9383-e043fa5832fe"
      },
      "source": [
        "api_key = '87d845b0b6cf29baa1a73cc34b067a95'\n",
        "location = input(\"Enter the city name: \")"
      ],
      "execution_count": 3,
      "outputs": [
        {
          "output_type": "stream",
          "text": [
            "Enter the city name: Navsari\n"
          ],
          "name": "stdout"
        }
      ]
    },
    {
      "cell_type": "code",
      "metadata": {
        "id": "vGiT4ZaajQKE"
      },
      "source": [
        "complete_api_link = \"https://api.openweathermap.org/data/2.5/weather?q=\"+location+\"&appid=\"+api_key\n",
        "api_link = requests.get(complete_api_link)\n",
        "api_data = api_link.json()"
      ],
      "execution_count": 6,
      "outputs": []
    },
    {
      "cell_type": "code",
      "metadata": {
        "id": "UyjQCDiyjlhy"
      },
      "source": [
        "#create variables to store and display data\n",
        "temp_city = ((api_data['main']['temp']) - 273.15)\n",
        "weather_desc = api_data['weather'][0]['description']\n",
        "hmdt = api_data['main']['humidity']\n",
        "wind_spd = api_data['wind']['speed']\n",
        "date_time = datetime.now().strftime(\"%d %b %Y | %I:%M:%S %p\")"
      ],
      "execution_count": 8,
      "outputs": []
    },
    {
      "cell_type": "code",
      "metadata": {
        "colab": {
          "base_uri": "https://localhost:8080/"
        },
        "id": "t8LHQg1Ij_en",
        "outputId": "4c50b8a7-dbcc-44f0-8b47-f7c77dffa736"
      },
      "source": [
        "print(\"-------------------------------------------------------------\")\n",
        "print(\"Weather Stats for - {}  || {}\".format(location.upper(), date_time))\n",
        "print(\"-------------------------------------------------------------\")"
      ],
      "execution_count": 10,
      "outputs": [
        {
          "output_type": "stream",
          "text": [
            "-------------------------------------------------------------\n",
            "Weather Stats for - NAVSARI  || 21 Jun 2021 | 05:12:55 PM\n",
            "-------------------------------------------------------------\n"
          ],
          "name": "stdout"
        }
      ]
    },
    {
      "cell_type": "code",
      "metadata": {
        "colab": {
          "base_uri": "https://localhost:8080/"
        },
        "id": "e6MA6l97kObQ",
        "outputId": "38f77633-9c57-457b-aedb-8ba64475ed55"
      },
      "source": [
        "print(\"Current temperature is: {:.2f} deg C\".format(temp_city))\n",
        "print(\"Current weather desc  :\", weather_desc)\n",
        "print(\"Current Humidity      :\", hmdt, '%')\n",
        "print(\"Current wind speed    :\", wind_spd, 'kmph')"
      ],
      "execution_count": 11,
      "outputs": [
        {
          "output_type": "stream",
          "text": [
            "Current temperature is: 28.14 deg C\n",
            "Current weather desc  : scattered clouds\n",
            "Current Humidity      : 76 %\n",
            "Current wind speed    : 5.94 kmph\n"
          ],
          "name": "stdout"
        }
      ]
    },
    {
      "cell_type": "code",
      "metadata": {
        "id": "qHzak8QUkZ4O"
      },
      "source": [
        "# opening the file\n",
        "file = open(\"weather_data.txt\", 'a')"
      ],
      "execution_count": 12,
      "outputs": []
    },
    {
      "cell_type": "code",
      "metadata": {
        "id": "npjRBEahkkYr"
      },
      "source": [
        "# #create variables to store and save the data\n",
        "heading = \"\\n\\n\\t\\tWeather Stats for - {}  || {}\\n\\n\".format(location.upper(), date_time)\n",
        "city_name = \"Current temperature is: {:.2f} deg C\\n\".format(temp_city)\n",
        "weather_desc = \"Current weather desc  : {}\\n\".format(weather_desc)\n",
        "humadity = \"Current Humidity      : {}% \\n\".format(hmdt)\n",
        "wind_speed = \"Current wind speed    : {} Kmph \\n\""
      ],
      "execution_count": 13,
      "outputs": []
    },
    {
      "cell_type": "code",
      "metadata": {
        "colab": {
          "base_uri": "https://localhost:8080/"
        },
        "id": "1sZfpBDvkx8V",
        "outputId": "46ab0f22-889d-4f63-dbe2-5f4b73810053"
      },
      "source": [
        "# Writing all data in the file\n",
        "file.write(\n",
        "        heading + city_name + weather_desc + humadity + wind_speed\n",
        "    )"
      ],
      "execution_count": 14,
      "outputs": [
        {
          "output_type": "execute_result",
          "data": {
            "text/plain": [
              "202"
            ]
          },
          "metadata": {
            "tags": []
          },
          "execution_count": 14
        }
      ]
    },
    {
      "cell_type": "code",
      "metadata": {
        "id": "eDp_4RvVk5B8"
      },
      "source": [
        "# Closing the file\n",
        "file.close()"
      ],
      "execution_count": 15,
      "outputs": []
    }
  ]
}